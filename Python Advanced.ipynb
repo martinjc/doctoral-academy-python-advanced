{
 "cells": [
  {
   "cell_type": "markdown",
   "metadata": {
    "deletable": true,
    "editable": true
   },
   "source": [
    "# Python - Advanced\n",
    "\n",
    "An introduction to using Python within your research. In this section we'll cover some very brief examples of reading, writing, analysing and visualising data. The exercises will then allow you to explore this further with more hands on examples.\n",
    "\n",
    "## Quick Recap\n",
    "\n",
    "A quick recap of Python from the beginners course, just in case:\n",
    "\n",
    "We can store data values in variables. These could be numbers, strings, true or false values and so on"
   ]
  },
  {
   "cell_type": "code",
   "execution_count": 1,
   "metadata": {
    "collapsed": false,
    "deletable": true,
    "editable": true
   },
   "outputs": [
    {
     "name": "stdout",
     "output_type": "stream",
     "text": [
      "7\n"
     ]
    }
   ],
   "source": [
    "x = 12\n",
    "x = x - 5\n",
    "print(x)"
   ]
  },
  {
   "cell_type": "code",
   "execution_count": 2,
   "metadata": {
    "collapsed": false,
    "deletable": true,
    "editable": true
   },
   "outputs": [
    {
     "name": "stdout",
     "output_type": "stream",
     "text": [
      "8\n"
     ]
    }
   ],
   "source": [
    "a = \"the bees\"\n",
    "length_a = len(a)\n",
    "print(length_a)"
   ]
  },
  {
   "cell_type": "markdown",
   "metadata": {
    "deletable": true,
    "editable": true
   },
   "source": [
    "We can store values in lists, then access specific parts of the list using indexes:"
   ]
  },
  {
   "cell_type": "code",
   "execution_count": 3,
   "metadata": {
    "collapsed": false,
    "deletable": true,
    "editable": true
   },
   "outputs": [
    {
     "name": "stdout",
     "output_type": "stream",
     "text": [
      "7\n"
     ]
    }
   ],
   "source": [
    "x = [3, 5, 7, 9]\n",
    "print(x[2])"
   ]
  },
  {
   "cell_type": "markdown",
   "metadata": {
    "deletable": true,
    "editable": true
   },
   "source": [
    "Lists can store values of multiple types:"
   ]
  },
  {
   "cell_type": "code",
   "execution_count": 4,
   "metadata": {
    "collapsed": false,
    "deletable": true,
    "editable": true
   },
   "outputs": [
    {
     "name": "stdout",
     "output_type": "stream",
     "text": [
      "[3, 5, 7, 9, 'bee']\n"
     ]
    }
   ],
   "source": [
    "x.append(\"bee\")\n",
    "print(x)"
   ]
  },
  {
   "cell_type": "markdown",
   "metadata": {
    "deletable": true,
    "editable": true
   },
   "source": [
    "We can iterate through lists using a for loop:"
   ]
  },
  {
   "cell_type": "code",
   "execution_count": 5,
   "metadata": {
    "collapsed": false,
    "deletable": true,
    "editable": true
   },
   "outputs": [
    {
     "name": "stdout",
     "output_type": "stream",
     "text": [
      "3\n",
      "5\n",
      "7\n",
      "9\n",
      "bee\n"
     ]
    }
   ],
   "source": [
    "for i in x:\n",
    "    print(i)"
   ]
  },
  {
   "cell_type": "markdown",
   "metadata": {
    "deletable": true,
    "editable": true
   },
   "source": [
    "We can make decisions in our code using if/elif/else statements:"
   ]
  },
  {
   "cell_type": "code",
   "execution_count": 6,
   "metadata": {
    "collapsed": false,
    "deletable": true,
    "editable": true
   },
   "outputs": [
    {
     "name": "stdout",
     "output_type": "stream",
     "text": [
      "x is exactly 100\n"
     ]
    }
   ],
   "source": [
    "x = 100\n",
    "\n",
    "if x > 100:\n",
    "    print(\"x is greater than 100\")\n",
    "elif x < 100:\n",
    "    print(\"x is less than 100\")\n",
    "else:\n",
    "    print(\"x is exactly 100\")"
   ]
  },
  {
   "cell_type": "markdown",
   "metadata": {
    "deletable": true,
    "editable": true
   },
   "source": [
    "We can store items in dictionaries ('dicts') as key/value pairs:"
   ]
  },
  {
   "cell_type": "code",
   "execution_count": 7,
   "metadata": {
    "collapsed": true,
    "deletable": true,
    "editable": true
   },
   "outputs": [],
   "source": [
    "a = {\"bears\": 5, \"cows\": 22, \"giraffes\": 12, \"lemurs\": 445}"
   ]
  },
  {
   "cell_type": "markdown",
   "metadata": {
    "deletable": true,
    "editable": true
   },
   "source": [
    "Then we can access the items by key:"
   ]
  },
  {
   "cell_type": "code",
   "execution_count": 8,
   "metadata": {
    "collapsed": false,
    "deletable": true,
    "editable": true
   },
   "outputs": [
    {
     "name": "stdout",
     "output_type": "stream",
     "text": [
      "5\n"
     ]
    }
   ],
   "source": [
    "print(a[\"bears\"])"
   ]
  },
  {
   "cell_type": "markdown",
   "metadata": {
    "deletable": true,
    "editable": true
   },
   "source": [
    "Or we can iterate over the whole dictionary:"
   ]
  },
  {
   "cell_type": "code",
   "execution_count": 9,
   "metadata": {
    "collapsed": false,
    "deletable": true,
    "editable": true
   },
   "outputs": [
    {
     "name": "stdout",
     "output_type": "stream",
     "text": [
      "cows 22\n",
      "lemurs 445\n",
      "giraffes 12\n",
      "bears 5\n"
     ]
    }
   ],
   "source": [
    "for key, value in a.items():\n",
    "    print(key, value)"
   ]
  },
  {
   "cell_type": "markdown",
   "metadata": {
    "deletable": true,
    "editable": true
   },
   "source": [
    "We can expand Python's functionality by importing extra modules:"
   ]
  },
  {
   "cell_type": "code",
   "execution_count": 10,
   "metadata": {
    "collapsed": false,
    "deletable": true,
    "editable": true
   },
   "outputs": [
    {
     "name": "stdout",
     "output_type": "stream",
     "text": [
      "0.5290826861200238\n"
     ]
    }
   ],
   "source": [
    "import math\n",
    "\n",
    "x = 34\n",
    "print(math.sin(x))"
   ]
  },
  {
   "cell_type": "markdown",
   "metadata": {
    "deletable": true,
    "editable": true
   },
   "source": [
    "## Reading and Writing Data\n",
    "\n",
    "We can open files for reading and writing using the `open()` function"
   ]
  },
  {
   "cell_type": "code",
   "execution_count": 11,
   "metadata": {
    "collapsed": true,
    "deletable": true,
    "editable": true
   },
   "outputs": [],
   "source": [
    "out_file = open(\"output.txt\", \"w\")\n",
    "out_file.write(\"test\")\n",
    "out_file.close()"
   ]
  },
  {
   "cell_type": "markdown",
   "metadata": {
    "deletable": true,
    "editable": true
   },
   "source": [
    "The `\"w\"` tells Python we want to open the file for writing to. If the file does not exist already, Python will create it. If we open a file with an `\"r\"` we are telling Python we just want to *read* the file."
   ]
  },
  {
   "cell_type": "code",
   "execution_count": 12,
   "metadata": {
    "collapsed": false,
    "deletable": true,
    "editable": true
   },
   "outputs": [
    {
     "name": "stdout",
     "output_type": "stream",
     "text": [
      "Wolverhampton Wanderers\n",
      "\n",
      "Brentford\n",
      "\n",
      "Rotherham United\n",
      "\n",
      "Leyton Orient\n",
      "\n",
      "Preston North End\n",
      "\n",
      "Peterborough United\n",
      "\n",
      "MK Dons\n",
      "\n",
      "Swindon Town\n",
      "\n",
      "Port Vale\n",
      "\n",
      "Walsall\n",
      "\n",
      "Sheffield United\n",
      "\n",
      "Bradford City\n",
      "\n",
      "Coventry City\n",
      "\n",
      "Gillingham\n",
      "\n",
      "Bristol City\n",
      "\n",
      "Oldham Athletic\n",
      "\n",
      "Crawley Town\n",
      "\n",
      "Colchester United\n",
      "\n",
      "Tranmere Rovers\n",
      "\n",
      "Carlisle\n",
      "\n",
      "Crewe Alexandra\n",
      "\n",
      "Shrewsbury Town\n",
      "\n",
      "Notts County\n",
      "\n",
      "Stevenage\n"
     ]
    }
   ],
   "source": [
    "in_file = open(\"leagueone.txt\", \"r\")\n",
    "lines = in_file.readlines()\n",
    "for line in lines:\n",
    "    print(line)"
   ]
  },
  {
   "cell_type": "markdown",
   "metadata": {
    "deletable": true,
    "editable": true
   },
   "source": [
    "The `csv` module is useful for reading and writing data to csv files:"
   ]
  },
  {
   "cell_type": "code",
   "execution_count": 13,
   "metadata": {
    "collapsed": false,
    "deletable": true,
    "editable": true
   },
   "outputs": [
    {
     "name": "stdout",
     "output_type": "stream",
     "text": [
      "['Reason', 'Month', 'Year', 'WeekType', 'TimeBand', 'BreathAlcoholLevel(microg/100ml)', 'AgeBand', 'Gender']\n"
     ]
    }
   ],
   "source": [
    "import csv\n",
    "\n",
    "in_file = open(\"DigitalBreathTestData2011.csv\", \"r\")\n",
    "reader = csv.reader(in_file)\n",
    "\n",
    "header = next(reader)\n",
    "print(header)"
   ]
  },
  {
   "cell_type": "code",
   "execution_count": 14,
   "metadata": {
    "collapsed": false,
    "deletable": true,
    "editable": true
   },
   "outputs": [
    {
     "name": "stdout",
     "output_type": "stream",
     "text": [
      "['14', '0', '0', '0', '71', '0', '91', '0', '32', '0']\n"
     ]
    }
   ],
   "source": [
    "alcohol_level = []\n",
    "\n",
    "for row in reader:\n",
    "    alcohol_level.append(row[5])\n",
    "    \n",
    "print(alcohol_level[0:10])\n",
    "    "
   ]
  },
  {
   "cell_type": "markdown",
   "metadata": {
    "deletable": true,
    "editable": true
   },
   "source": [
    "`csv` also provides a `DictReader`/`DictWriter`, which is especially helpful when our csv file has column headings, as in this case"
   ]
  },
  {
   "cell_type": "code",
   "execution_count": 15,
   "metadata": {
    "collapsed": false,
    "deletable": true,
    "editable": true
   },
   "outputs": [
    {
     "name": "stdout",
     "output_type": "stream",
     "text": [
      "['Reason', 'Month', 'Year', 'WeekType', 'TimeBand', 'BreathAlcoholLevel(microg/100ml)', 'AgeBand', 'Gender']\n",
      "['14', '0', '0', '0', '71', '0', '91', '0', '32', '0']\n"
     ]
    }
   ],
   "source": [
    "import csv\n",
    "\n",
    "in_file = open(\"DigitalBreathTestData2011.csv\", \"r\")\n",
    "\n",
    "reader = csv.DictReader(in_file)\n",
    "\n",
    "print(reader.fieldnames)\n",
    "\n",
    "alcohol_level = []\n",
    "\n",
    "for row in reader:\n",
    "    alcohol_level.append(row['BreathAlcoholLevel(microg/100ml)'])\n",
    "    \n",
    "print(alcohol_level[0:10])"
   ]
  },
  {
   "cell_type": "code",
   "execution_count": 16,
   "metadata": {
    "collapsed": true,
    "deletable": true,
    "editable": true
   },
   "outputs": [],
   "source": [
    "header = [\"bears\", \"bees\", \"bricks\"]\n",
    "\n",
    "sample_a = {\"bears\": 20, \"bees\": 5, \"bricks\": 456}\n",
    "sample_b = {\"bears\": 10, \"bees\": 8, \"bricks\": 123}\n",
    "sample_c = {\"bears\": 30, \"bees\": 9, \"bricks\": 789}\n",
    "\n",
    "out_file = open(\"test_output.csv\", \"w\")\n",
    "\n",
    "writer = csv.DictWriter(out_file, header)\n",
    "writer.writeheader()\n",
    "writer.writerows([sample_a, sample_b, sample_c])\n",
    "\n",
    "out_file.close()"
   ]
  },
  {
   "cell_type": "markdown",
   "metadata": {
    "deletable": true,
    "editable": true
   },
   "source": [
    "## Pandas module\n",
    "\n",
    "However, `csv` isn't that great as it forces us to examine our data one row at a time, when in general we'd like to see all of our data at the same time. The `pandas` module provides better data structures and analysis tools for dealing with data in Python. For more information on `pandas`, see the pandas website at http://pandas.pydata.org/\n",
    "\n",
    "For example, to read all of our data into a `pandas` `DataFrame`:"
   ]
  },
  {
   "cell_type": "code",
   "execution_count": 17,
   "metadata": {
    "collapsed": true,
    "deletable": true,
    "editable": true
   },
   "outputs": [],
   "source": [
    "import pandas\n",
    "\n",
    "data = pandas.read_csv(\"DigitalBreathTestData2011.csv\")"
   ]
  },
  {
   "cell_type": "markdown",
   "metadata": {
    "deletable": true,
    "editable": true
   },
   "source": [
    "Now we can access all the data in a column of our csv file really easily:"
   ]
  },
  {
   "cell_type": "code",
   "execution_count": 18,
   "metadata": {
    "collapsed": false,
    "deletable": true,
    "editable": true
   },
   "outputs": [
    {
     "name": "stdout",
     "output_type": "stream",
     "text": [
      "0    14\n",
      "1     0\n",
      "2     0\n",
      "3     0\n",
      "4    71\n",
      "5     0\n",
      "6    91\n",
      "7     0\n",
      "8    32\n",
      "9     0\n",
      "Name: BreathAlcoholLevel(microg/100ml), dtype: int64\n"
     ]
    }
   ],
   "source": [
    "print(data['BreathAlcoholLevel(microg/100ml)'][0:10])"
   ]
  },
  {
   "cell_type": "markdown",
   "metadata": {
    "deletable": true,
    "editable": true
   },
   "source": [
    "`pandas` has some helpful methods to let us examine our data initially:"
   ]
  },
  {
   "cell_type": "code",
   "execution_count": 19,
   "metadata": {
    "collapsed": false,
    "deletable": true,
    "editable": true
   },
   "outputs": [
    {
     "name": "stdout",
     "output_type": "stream",
     "text": [
      "                     Reason Month  Year WeekType  TimeBand  \\\n",
      "0      Suspicion of Alcohol   Nov  2011  Weekend  12am-4am   \n",
      "1  Moving Traffic Violation   Nov  2011  Weekend  8pm-12pm   \n",
      "2  Moving Traffic Violation   Nov  2011  Weekend  12am-4am   \n",
      "3  Moving Traffic Violation   Nov  2011  Weekend  8pm-12pm   \n",
      "4  Moving Traffic Violation   Nov  2011  Weekday  8am-12pm   \n",
      "\n",
      "   BreathAlcoholLevel(microg/100ml) AgeBand  Gender  \n",
      "0                                14   25-29    Male  \n",
      "1                                 0   20-24    Male  \n",
      "2                                 0   25-29    Male  \n",
      "3                                 0   50-59    Male  \n",
      "4                                71   40-49  Female  \n"
     ]
    }
   ],
   "source": [
    "print(data.head())"
   ]
  },
  {
   "cell_type": "code",
   "execution_count": 20,
   "metadata": {
    "collapsed": false,
    "deletable": true,
    "editable": true
   },
   "outputs": [
    {
     "name": "stdout",
     "output_type": "stream",
     "text": [
      "         Year  BreathAlcoholLevel(microg/100ml)\n",
      "count  559230                     559230.000000\n",
      "mean     2011                          9.763078\n",
      "std         0                         28.484986\n",
      "min      2011                          0.000000\n",
      "25%      2011                          0.000000\n",
      "50%      2011                          0.000000\n",
      "75%      2011                          0.000000\n",
      "max      2011                       6551.000000\n"
     ]
    }
   ],
   "source": [
    "print(data.describe())"
   ]
  },
  {
   "cell_type": "markdown",
   "metadata": {
    "deletable": true,
    "editable": true
   },
   "source": [
    "There are also helpful methods for things like sorting data:"
   ]
  },
  {
   "cell_type": "code",
   "execution_count": 22,
   "metadata": {
    "collapsed": false,
    "deletable": true,
    "editable": true
   },
   "outputs": [
    {
     "name": "stdout",
     "output_type": "stream",
     "text": [
      "                          Reason Month  Year WeekType  TimeBand  \\\n",
      "164534      Suspicion of Alcohol   Oct  2011  Weekend  8pm-12pm   \n",
      "157053      Suspicion of Alcohol   Oct  2011  Weekend  8am-12pm   \n",
      "494497      Suspicion of Alcohol   Jan  2011  Weekday  12pm-4pm   \n",
      "257531      Suspicion of Alcohol   Jun  2011  Weekend   4pm-8pm   \n",
      "395251      Suspicion of Alcohol   Dec  2011  Weekday  12am-4am   \n",
      "172942      Suspicion of Alcohol   Jul  2011  Weekend  12am-4am   \n",
      "425723  Moving Traffic Violation   Apr  2011  Weekday  8pm-12pm   \n",
      "436399      Suspicion of Alcohol   Jul  2011  Weekend  12am-4am   \n",
      "303335    Road Traffic Collision   May  2011  Weekday  12am-4am   \n",
      "527189  Moving Traffic Violation   May  2011  Weekday  12am-4am   \n",
      "\n",
      "        BreathAlcoholLevel(microg/100ml) AgeBand   Gender  \n",
      "164534                              6551   20-24     Male  \n",
      "157053                              6544   25-29  Unknown  \n",
      "494497                               503   25-29   Female  \n",
      "257531                               497   30-39     Male  \n",
      "395251                               446   40-49     Male  \n",
      "172942                               434   25-29     Male  \n",
      "425723                               422   30-39     Male  \n",
      "436399                               421   25-29     Male  \n",
      "303335                               413   20-24     Male  \n",
      "527189                               411   20-24     Male  \n"
     ]
    }
   ],
   "source": [
    "sorted_data = data.sort_values(by=\"BreathAlcoholLevel(microg/100ml)\", ascending=False)\n",
    "\n",
    "print(sorted_data.head(10))"
   ]
  },
  {
   "cell_type": "markdown",
   "metadata": {
    "deletable": true,
    "editable": true
   },
   "source": [
    "If we are only interested in certain columns, we can select those:"
   ]
  },
  {
   "cell_type": "code",
   "execution_count": 23,
   "metadata": {
    "collapsed": false,
    "deletable": true,
    "editable": true
   },
   "outputs": [
    {
     "name": "stdout",
     "output_type": "stream",
     "text": [
      "  Month  BreathAlcoholLevel(microg/100ml)\n",
      "0   Nov                                14\n",
      "1   Nov                                 0\n",
      "2   Nov                                 0\n",
      "3   Nov                                 0\n",
      "4   Nov                                71\n"
     ]
    }
   ],
   "source": [
    "month_alcohol = data.loc[:, ['Month', 'BreathAlcoholLevel(microg/100ml)']]\n",
    "\n",
    "print(month_alcohol.head())"
   ]
  },
  {
   "cell_type": "markdown",
   "metadata": {
    "deletable": true,
    "editable": true
   },
   "source": [
    "We can group results together and then perform operations on that data:"
   ]
  },
  {
   "cell_type": "code",
   "execution_count": 24,
   "metadata": {
    "collapsed": false,
    "deletable": true,
    "editable": true
   },
   "outputs": [
    {
     "name": "stdout",
     "output_type": "stream",
     "text": [
      "       BreathAlcoholLevel(microg/100ml)\n",
      "Month                                  \n",
      "Apr                           13.635647\n",
      "Aug                           12.864574\n",
      "Dec                            4.689709\n",
      "Feb                           11.422124\n",
      "Jan                           10.338411\n",
      "Jul                           12.202678\n",
      "Jun                            6.291609\n",
      "Mar                           12.226393\n",
      "May                           13.233712\n",
      "Nov                           11.192367\n",
      "Oct                           12.968526\n",
      "Sep                           12.711301\n"
     ]
    }
   ],
   "source": [
    "group_by_month = month_alcohol.groupby('Month')\n",
    "\n",
    "print(group_by_month.mean())"
   ]
  },
  {
   "cell_type": "markdown",
   "metadata": {
    "deletable": true,
    "editable": true
   },
   "source": [
    "Of course, we could do this from the initial data too:"
   ]
  },
  {
   "cell_type": "code",
   "execution_count": 25,
   "metadata": {
    "collapsed": false,
    "deletable": true,
    "editable": true
   },
   "outputs": [
    {
     "name": "stdout",
     "output_type": "stream",
     "text": [
      "Month\n",
      "Apr    13.635647\n",
      "Aug    12.864574\n",
      "Dec     4.689709\n",
      "Feb    11.422124\n",
      "Jan    10.338411\n",
      "Jul    12.202678\n",
      "Jun     6.291609\n",
      "Mar    12.226393\n",
      "May    13.233712\n",
      "Nov    11.192367\n",
      "Oct    12.968526\n",
      "Sep    12.711301\n",
      "Name: BreathAlcoholLevel(microg/100ml), dtype: float64\n"
     ]
    }
   ],
   "source": [
    "print(data.groupby('Month')['BreathAlcoholLevel(microg/100ml)'].mean())"
   ]
  },
  {
   "cell_type": "markdown",
   "metadata": {
    "deletable": true,
    "editable": true
   },
   "source": [
    "`pandas` has lots more useful tools for manipulating, selecting and transforming data. The documentation is fairly comprehensive. It also has tools for basic plotting. For more advanced plotting, you'll want to use `matplotlib`, which we'll talk about later."
   ]
  },
  {
   "cell_type": "markdown",
   "metadata": {
    "deletable": true,
    "editable": true
   },
   "source": [
    " \n",
    " \n",
    " \n",
    "## Statistics\n",
    "\n",
    "The Python module `scipy` and contains many methods for analysis of data. We'll cover just a few methods from the `scipy.stats` module here. For more, look at the documentation online at http://www.scipy.org/scipylib/index.html"
   ]
  },
  {
   "cell_type": "code",
   "execution_count": 26,
   "metadata": {
    "collapsed": false,
    "deletable": true,
    "editable": true
   },
   "outputs": [
    {
     "name": "stdout",
     "output_type": "stream",
     "text": [
      "[ 0.64483055  0.70212479  0.98902624  0.38065805  0.71908089  0.97224741\n",
      "  0.09738798  0.25063652  0.79395672  0.01063288]\n",
      "[ 0.82792875  0.60677523  0.39174119  0.47385288  0.1022468   0.92250011\n",
      "  0.35206152  0.90228785  0.30712613  0.38153988]\n"
     ]
    }
   ],
   "source": [
    "import scipy\n",
    "import numpy\n",
    "\n",
    "data_a = numpy.random.rand(100)\n",
    "data_b = numpy.random.rand(100)\n",
    "\n",
    "print(data_a[0:10])\n",
    "print(data_b[0:10])\n"
   ]
  },
  {
   "cell_type": "code",
   "execution_count": 27,
   "metadata": {
    "collapsed": false,
    "deletable": true,
    "editable": true
   },
   "outputs": [
    {
     "name": "stdout",
     "output_type": "stream",
     "text": [
      "mean: 0.514357, std: 0.310292\n",
      "mean: 0.487801, std: 0.297894\n"
     ]
    }
   ],
   "source": [
    "print(\"mean: %f, std: %f\" % (scipy.mean(data_a), scipy.std(data_a)))\n",
    "print(\"mean: %f, std: %f\" % (scipy.mean(data_b), scipy.std(data_b)))"
   ]
  },
  {
   "cell_type": "markdown",
   "metadata": {
    "deletable": true,
    "editable": true
   },
   "source": [
    "We could perform a t-test on our data to check if there's a significant difference between the means:"
   ]
  },
  {
   "cell_type": "code",
   "execution_count": 28,
   "metadata": {
    "collapsed": false,
    "deletable": true,
    "editable": true
   },
   "outputs": [
    {
     "name": "stdout",
     "output_type": "stream",
     "text": [
      "t: 0.614275, p: 0.539739\n"
     ]
    }
   ],
   "source": [
    "from scipy import stats\n",
    "\n",
    "t, p_val = stats.ttest_ind(data_a, data_b)\n",
    "print(\"t: %f, p: %f\" % (t, p_val))"
   ]
  },
  {
   "cell_type": "markdown",
   "metadata": {
    "deletable": true,
    "editable": true
   },
   "source": [
    "We could look for a correlation between our two datasets:"
   ]
  },
  {
   "cell_type": "code",
   "execution_count": 29,
   "metadata": {
    "collapsed": false,
    "deletable": true,
    "editable": true
   },
   "outputs": [
    {
     "name": "stdout",
     "output_type": "stream",
     "text": [
      "r: -0.055119, p: 0.585977\n"
     ]
    }
   ],
   "source": [
    "r, p_val = stats.pearsonr(data_a, data_b)\n",
    "print(\"r: %f, p: %f\" % (r, p_val))"
   ]
  },
  {
   "cell_type": "markdown",
   "metadata": {
    "deletable": true,
    "editable": true
   },
   "source": [
    "What statistical analysis we want to do on our data is obviously dependent on the data itself and the field we are working in, but in general, `scipy` should have the method/analysis you need"
   ]
  },
  {
   "cell_type": "markdown",
   "metadata": {
    "deletable": true,
    "editable": true
   },
   "source": [
    "\n",
    "\n",
    "\n",
    "# Visualising Data\n",
    "\n",
    "We'll now look at visualising our data using `matplotlib`. For more information on `matplotlib`, check out the documentation online at http://matplotlib.org/\n",
    "\n",
    "First of all we create some random data to plot:"
   ]
  },
  {
   "cell_type": "code",
   "execution_count": 1,
   "metadata": {
    "collapsed": false,
    "deletable": true,
    "editable": true
   },
   "outputs": [
    {
     "name": "stdout",
     "output_type": "stream",
     "text": [
      "[ 0.01168632  0.46266531  0.58686666  0.0097285   0.37670011  0.6939651\n",
      "  0.47473258  0.49046731  0.75271265  0.86085171  0.15614608  0.24076324\n",
      "  0.85351362  0.90304632  0.6053064   0.61022157  0.31731699  0.44041168\n",
      "  0.32030124  0.48347094  0.79231221  0.00381604  0.22355064  0.7022101\n",
      "  0.03424507  0.37658107  0.63118357  0.63710749  0.44751571  0.84834455\n",
      "  0.00435005  0.26948043  0.41572446  0.95769408  0.07100022  0.50568834\n",
      "  0.96732104  0.45279484  0.74568619  0.68584222  0.17343878  0.22463792\n",
      "  0.39033049  0.45520108  0.31127569  0.0458956   0.86214375  0.73469516\n",
      "  0.89256747  0.87250548  0.30162073  0.8237987   0.43295762  0.90369796\n",
      "  0.18959184  0.73175222  0.79284171  0.71692921  0.19052087  0.09958381\n",
      "  0.3909591   0.08476747  0.00279715  0.45967711  0.46408561  0.76151217\n",
      "  0.6351608   0.43121888  0.85820117  0.2681342   0.01116446  0.20207403\n",
      "  0.79057581  0.9239362   0.63286195  0.51780029  0.8619591   0.70862297\n",
      "  0.00716857  0.28901281  0.14174693  0.05508619  0.15882505  0.29700525\n",
      "  0.57974023  0.3818922   0.44376656  0.66585813  0.96823659  0.10925003\n",
      "  0.65442509  0.94427628  0.05082089  0.08398272  0.32775157  0.53625766\n",
      "  0.6782606   0.72225009  0.25959866  0.67011967]\n"
     ]
    }
   ],
   "source": [
    "%matplotlib inline\n",
    "\n",
    "import matplotlib.pyplot as plt\n",
    "import numpy as np\n",
    "\n",
    "data = np.random.rand(100)\n",
    "print(data)\n"
   ]
  },
  {
   "cell_type": "markdown",
   "metadata": {
    "deletable": true,
    "editable": true
   },
   "source": [
    "Now, we need some index values to plot this data against, so we make a list containing the values `0 ... 99`"
   ]
  },
  {
   "cell_type": "code",
   "execution_count": 2,
   "metadata": {
    "collapsed": false,
    "deletable": true,
    "editable": true
   },
   "outputs": [
    {
     "name": "stdout",
     "output_type": "stream",
     "text": [
      "[ 0  1  2  3  4  5  6  7  8  9 10 11 12 13 14 15 16 17 18 19 20 21 22 23 24\n",
      " 25 26 27 28 29 30 31 32 33 34 35 36 37 38 39 40 41 42 43 44 45 46 47 48 49\n",
      " 50 51 52 53 54 55 56 57 58 59 60 61 62 63 64 65 66 67 68 69 70 71 72 73 74\n",
      " 75 76 77 78 79 80 81 82 83 84 85 86 87 88 89 90 91 92 93 94 95 96 97 98 99]\n"
     ]
    }
   ],
   "source": [
    "x = np.arange(100)\n",
    "print(x)"
   ]
  },
  {
   "cell_type": "markdown",
   "metadata": {
    "deletable": true,
    "editable": true
   },
   "source": [
    "Now we can ask matplotlib to plot this data as a simple scatter plot:"
   ]
  },
  {
   "cell_type": "code",
   "execution_count": 3,
   "metadata": {
    "collapsed": false,
    "deletable": true,
    "editable": true
   },
   "outputs": [
    {
     "data": {
      "image/png": "[encoded data removed]",
      "text/plain": [
       "<matplotlib.figure.Figure at 0x10b3ab470>"
      ]
     },
     "metadata": {},
     "output_type": "display_data"
    }
   ],
   "source": [
    "fig = plt.figure()\n",
    "plt.scatter(x, data)\n",
    "plt.show()"
   ]
  },
  {
   "cell_type": "markdown",
   "metadata": {
    "deletable": true,
    "editable": true
   },
   "source": [
    "The exercises cover more examples of visualising data using `matplotlib`"
   ]
  },
  {
   "cell_type": "code",
   "execution_count": null,
   "metadata": {
    "collapsed": true,
    "deletable": true,
    "editable": true
   },
   "outputs": [],
   "source": []
  }
 ],
 "metadata": {
  "kernelspec": {
   "display_name": "Python 3",
   "language": "python",
   "name": "python3"
  },
  "language_info": {
   "codemirror_mode": {
    "name": "ipython",
    "version": 3
   },
   "file_extension": ".py",
   "mimetype": "text/x-python",
   "name": "python",
   "nbconvert_exporter": "python",
   "pygments_lexer": "ipython3",
   "version": "3.5.2"
  }
 },
 "nbformat": 4,
 "nbformat_minor": 1
}
